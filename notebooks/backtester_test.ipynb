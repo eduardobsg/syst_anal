{
 "cells": [
  {
   "cell_type": "markdown",
   "metadata": {},
   "source": [
    "# Backtester Test"
   ]
  },
  {
   "cell_type": "code",
   "execution_count": null,
   "metadata": {},
   "outputs": [],
   "source": [
    "import sys\n",
    "import os\n",
    "sys.path.append(os.path.abspath(os.path.join(os.path.dirname('__file__'), '..')))"
   ]
  },
  {
   "cell_type": "code",
   "execution_count": null,
   "metadata": {},
   "outputs": [],
   "source": [
    "import pandas as pd\n",
    "import numpy as np\n",
    "import matplotlib.pyplot as plt\n",
    "from backtester.engine import BacktestEngine, Performance, PerfStats\n",
    "from backtester.signals import TSMOM, VolatilityScale, as_freq"
   ]
  },
  {
   "cell_type": "markdown",
   "metadata": {},
   "source": [
    "## Define Tickers"
   ]
  },
  {
   "cell_type": "code",
   "execution_count": null,
   "metadata": {},
   "outputs": [],
   "source": [
    "TICKERS = {\n",
    "    \"Equity\": [\"ES=F\", \"NQ=F\", \"YM=F\", \"RTY=F\"],\n",
    "    \"Bond\": [\"ZB=F\", \"ZN=F\", \"ZF=F\", \"ZT=F\"],\n",
    "    \"FX\": [\"6E=F\", \"6J=F\", \"6B=F\", \"6A=F\", \"6C=F\", \"6S=F\"],\n",
    "    \"Commodity\": [\"CL=F\", \"GC=F\", \"SI=F\", \"HG=F\", \"NG=F\", \"RB=F\", \"HO=F\", \"PA=F\", \"PL=F\"],\n",
    "}\n",
    "all_tickers = [ticker for asset_class in TICKERS.values() for ticker in asset_class]"
   ]
  },
  {
   "cell_type": "markdown",
   "metadata": {},
   "source": [
    "## Run Backtest"
   ]
  },
  {
   "cell_type": "code",
   "execution_count": null,
   "metadata": {},
   "outputs": [],
   "source": [
    "engine = BacktestEngine(\n",
    "    strategy=\"DELTA_ONE\",\n",
    "    instrument=all_tickers,\n",
    "    signal=[\n",
    "        VolatilityScale(target_volatility=0.4, ann_factor=261, com=60, signal_cap=0.95),\n",
    "        TSMOM(lookback=252, shift=2)\n",
    "    ],\n",
    "    weighting=\"EQUAL_WEIGHT\",\n",
    ")\n",
    "engine.run()"
   ]
  },
  {
   "cell_type": "markdown",
   "metadata": {},
   "source": [
    "## Equity Curve"
   ]
  },
  {
   "cell_type": "code",
   "execution_count": null,
   "metadata": {},
   "outputs": [],
   "source": [
    "equity_curve = engine.calculate_equity_curve()\n",
    "equity_curve.plot(figsize=(10, 6), title='Backtester Equity Curve', logy=True)"
   ]
  },
  {
   "cell_type": "markdown",
   "metadata": {},
   "source": [
    "## Performance Summary"
   ]
  },
  {
   "cell_type": "code",
   "execution_count": null,
   "metadata": {},
   "outputs": [],
   "source": [
    "performance = Performance(equity_curve)\n",
    "performance.summary()"
   ]
  },
  {
   "cell_type": "markdown",
   "metadata": {},
   "source": [
    "## Sharpe Ratios by Instrument"
   ]
  },
  {
   "cell_type": "code",
   "execution_count": null,
   "metadata": {},
   "outputs": [],
   "source": [
    "instrument_returns = engine.get_return_by_instrument()\n",
    "performance_by_instrument = Performance(instrument_returns, return_type='diff')\n",
    "sharpe_ratios = performance_by_instrument.summary().loc[PerfStats.SHARPE.value]\n",
    "sharpe_ratios.plot(kind='bar', figsize=(14, 4), title='Sharpe Ratios by Instrument')"
   ]
  }
 ],
 "metadata": {
  "kernelspec": {
   "display_name": "Python 3",
   "language": "python",
   "name": "python3"
  },
  "language_info": {
   "codemirror_mode": {
    "name": "ipython",
    "version": 3
   },
   "file_extension": ".py",
   "mimetype": "text/x-python",
   "name": "python",
   "nbconvert_exporter": "python",
   "pygments_lexer": "ipython3",
   "version": "3.8.10"
  }
 },
 "nbformat": 4,
 "nbformat_minor": 4
}
